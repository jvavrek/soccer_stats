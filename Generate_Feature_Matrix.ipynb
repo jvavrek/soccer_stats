{
 "cells": [
  {
   "cell_type": "code",
   "execution_count": 1,
   "metadata": {},
   "outputs": [],
   "source": [
    "import matplotlib.pyplot as plt\n",
    "import pandas as pd\n",
    "import numpy as np\n",
    "import scipy as sp\n",
    "import glob"
   ]
  },
  {
   "cell_type": "code",
   "execution_count": 2,
   "metadata": {
    "collapsed": true
   },
   "outputs": [],
   "source": [
    "#Clean Data"
   ]
  },
  {
   "cell_type": "code",
   "execution_count": 9,
   "metadata": {
    "collapsed": true
   },
   "outputs": [],
   "source": [
    "years = [2014,2010,2006,2002,1998,1994,1990]"
   ]
  },
  {
   "cell_type": "code",
   "execution_count": 3,
   "metadata": {},
   "outputs": [],
   "source": []
  },
  {
   "cell_type": "code",
   "execution_count": 11,
   "metadata": {},
   "outputs": [
    {
     "name": "stderr",
     "output_type": "stream",
     "text": [
      "/Library/Frameworks/Python.framework/Versions/3.6/lib/python3.6/site-packages/pandas/core/indexing.py:179: SettingWithCopyWarning: \n",
      "A value is trying to be set on a copy of a slice from a DataFrame\n",
      "\n",
      "See the caveats in the documentation: http://pandas.pydata.org/pandas-docs/stable/indexing.html#indexing-view-versus-copy\n",
      "  self._setitem_with_indexer(indexer, value)\n"
     ]
    }
   ],
   "source": [
    "for year in years:\n",
    "    data = pd.DataFrame.from_csv(\"./%s.csv\"%year)\n",
    "    for i in range(len(data[\"Matches Played\"])):\n",
    "        if np.isnan(data[\"Matches Played\"].iloc[i]):\n",
    "            data[\"Matches Played\"].iloc[i] = data[\"Matches Played.1\"].iloc[i]\n",
    "\n",
    "            \n",
    "        data[\"Yellow_Per_Game_Avg\"] = data[\"Yellow Card\"]/data[\"Matches Played\"]\n",
    "        data[\"YellowRed_Per_Game_Avg\"] = data[\"Second yellow card and red card\"]/data[\"Matches Played\"]\n",
    "        data[\"Red_Per_Game_Avg\"] = data[\"Red Cards\"]/data[\"Matches Played\"]\n",
    "\n",
    "        data[\"Goal_Per_Game_Avg\"] = data[\"Goals for\"]/data[\"Matches Played\"]\n",
    "        data[\"Goal_Against_Per_Game_Avg\"] = data[\"Goals Against\"]/data[\"Matches Played\"]\n",
    "        data[\"PenGoal_Per_Game_Avg\"] = data[\"Penalty goal\"]/data[\"Matches Played\"]\n",
    "\n",
    "        data.to_csv(\"./%s.csv\"%year)"
   ]
  },
  {
   "cell_type": "code",
   "execution_count": 12,
   "metadata": {},
   "outputs": [
    {
     "data": {
      "text/plain": [
       "Index(['number', 'Teams.1', 'Goals for', 'Goals Against', 'Penalty goal',\n",
       "       'Average Goals For', 'Matches Played', 'number.1', 'Teams.1.1',\n",
       "       'Yellow Card', 'Second yellow card and red card', 'Red Cards',\n",
       "       'Matches Played.1', 'Yellow_Per_Game_Avg', 'YellowRed_Per_Game_Avg',\n",
       "       'Red_Per_Game_Avg', 'Goal_Per_Game_Avg', 'Goal_Against_Per_Game_Avg',\n",
       "       'PenGoal_Per_Game_Avg'],\n",
       "      dtype='object')"
      ]
     },
     "execution_count": 12,
     "metadata": {},
     "output_type": "execute_result"
    }
   ],
   "source": [
    "data.columns"
   ]
  },
  {
   "cell_type": "code",
   "execution_count": 13,
   "metadata": {
    "collapsed": true
   },
   "outputs": [],
   "source": [
    "features_types = [\"Matches Played\",'Yellow_Per_Game_Avg', 'YellowRed_Per_Game_Avg',\n",
    "       'Red_Per_Game_Avg', 'Goal_Per_Game_Avg', 'Goal_Against_Per_Game_Avg',\n",
    "       'PenGoal_Per_Game_Avg']"
   ]
  },
  {
   "cell_type": "code",
   "execution_count": 109,
   "metadata": {},
   "outputs": [],
   "source": [
    "match_data =  pd.DataFrame.from_csv(\"./all_match_outcomes.csv\")"
   ]
  },
  {
   "cell_type": "code",
   "execution_count": 110,
   "metadata": {},
   "outputs": [
    {
     "name": "stdout",
     "output_type": "stream",
     "text": [
      "64\n",
      "64\n",
      "64\n",
      "64\n",
      "64\n",
      "52\n"
     ]
    }
   ],
   "source": [
    "feature_matrix = pd.DataFrame()\n",
    "\n",
    "for y in range(len(years)-1):\n",
    "    current_year = years[y]\n",
    "    last_year = years[y+1]\n",
    "    \n",
    "    #Grab Last World Cup's Performance Metrics of Country 1\n",
    "    perf_data = pd.DataFrame.from_csv(\"./%s.csv\"%last_year)\n",
    "    perf_data = perf_data[features_types]\n",
    "    perf_data.columns = [x+\"_C1\" for x in perf_data.columns]\n",
    "    perf_data = perf_data.reset_index()\n",
    "    perf_data = perf_data.rename(columns = {'index':'Country1'})\n",
    "\n",
    "    features_of_this_year = match_data[match_data['Year'] == current_year]\n",
    "    \n",
    "    print(len(features_of_this_year))\n",
    "    \n",
    "    features_of_this_year = features_of_this_year.merge(perf_data, how='left', on=\"Country1\")\n",
    "    \n",
    "    #Grab Last World Cup's Performance Metrics of Country 2\n",
    "    \n",
    "    perf_data = pd.DataFrame.from_csv(\"./%s.csv\"%last_year)\n",
    "    perf_data = perf_data[features_types]\n",
    "    perf_data.columns = [x+\"_C2\" for x in perf_data.columns]\n",
    "    perf_data = perf_data.reset_index()\n",
    "    perf_data = perf_data.rename(columns = {'index':'Country2'})\n",
    "\n",
    "    features_of_this_year = features_of_this_year.merge(perf_data, how='left', on=\"Country2\")\n",
    "    \n",
    "    #Combine to Feature Matrix\n",
    "    feature_matrix = pd.concat([feature_matrix,features_of_this_year], axis=0, ignore_index=True)"
   ]
  },
  {
   "cell_type": "code",
   "execution_count": 114,
   "metadata": {},
   "outputs": [],
   "source": [
    "feature_matrix.to_csv(\"./feature_matrix.csv\")"
   ]
  },
  {
   "cell_type": "code",
   "execution_count": 113,
   "metadata": {},
   "outputs": [],
   "source": [
    "#Some Countries did not play in previous year, need to just zero them out\n",
    "feature_matrix = feature_matrix.fillna(0)\n"
   ]
  }
 ],
 "metadata": {
  "kernelspec": {
   "display_name": "Python 3",
   "language": "python",
   "name": "python3"
  },
  "language_info": {
   "codemirror_mode": {
    "name": "ipython",
    "version": 3
   },
   "file_extension": ".py",
   "mimetype": "text/x-python",
   "name": "python",
   "nbconvert_exporter": "python",
   "pygments_lexer": "ipython3",
   "version": "3.6.0"
  }
 },
 "nbformat": 4,
 "nbformat_minor": 2
}
