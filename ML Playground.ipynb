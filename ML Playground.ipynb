{
 "cells": [
  {
   "cell_type": "code",
   "execution_count": 5,
   "metadata": {
    "collapsed": true
   },
   "outputs": [],
   "source": [
    "import matplotlib.pyplot as plt\n",
    "import pandas as pd\n",
    "import numpy as np\n",
    "import scipy as sp\n",
    "import glob"
   ]
  },
  {
   "cell_type": "code",
   "execution_count": 6,
   "metadata": {
    "collapsed": true
   },
   "outputs": [],
   "source": [
    "data_df = pd.DataFrame.from_csv(\"./feature_matrix.csv\")"
   ]
  },
  {
   "cell_type": "code",
   "execution_count": 7,
   "metadata": {},
   "outputs": [
    {
     "data": {
      "text/html": [
       "<div>\n",
       "<style>\n",
       "    .dataframe thead tr:only-child th {\n",
       "        text-align: right;\n",
       "    }\n",
       "\n",
       "    .dataframe thead th {\n",
       "        text-align: left;\n",
       "    }\n",
       "\n",
       "    .dataframe tbody tr th {\n",
       "        vertical-align: top;\n",
       "    }\n",
       "</style>\n",
       "<table border=\"1\" class=\"dataframe\">\n",
       "  <thead>\n",
       "    <tr style=\"text-align: right;\">\n",
       "      <th></th>\n",
       "      <th>Date</th>\n",
       "      <th>Year</th>\n",
       "      <th>Type</th>\n",
       "      <th>Group</th>\n",
       "      <th>Country1</th>\n",
       "      <th>Score</th>\n",
       "      <th>Country2</th>\n",
       "      <th>Stadium</th>\n",
       "      <th>Ref</th>\n",
       "      <th>Attendence</th>\n",
       "      <th>...</th>\n",
       "      <th>Goal_Per_Game_Avg_C2</th>\n",
       "      <th>Goal_Against_Per_Game_Avg_C2</th>\n",
       "      <th>PenGoal_Per_Game_Avg_C2</th>\n",
       "      <th>FIFA rank_C2</th>\n",
       "      <th>seed_C2</th>\n",
       "      <th>host_C2</th>\n",
       "      <th>stars_C2</th>\n",
       "      <th>cohesion_C2</th>\n",
       "      <th>cohesion sans 1_C2</th>\n",
       "      <th>dist_C2</th>\n",
       "    </tr>\n",
       "  </thead>\n",
       "  <tbody>\n",
       "    <tr>\n",
       "      <th>0</th>\n",
       "      <td>12-Jun-14</td>\n",
       "      <td>2014</td>\n",
       "      <td>G</td>\n",
       "      <td>A</td>\n",
       "      <td>Brazil</td>\n",
       "      <td>1-Mar</td>\n",
       "      <td>Croatia</td>\n",
       "      <td>Arena de Sao Paulo</td>\n",
       "      <td>Yuichi Nishimura</td>\n",
       "      <td>62103</td>\n",
       "      <td>...</td>\n",
       "      <td>NaN</td>\n",
       "      <td>NaN</td>\n",
       "      <td>NaN</td>\n",
       "      <td>NaN</td>\n",
       "      <td>NaN</td>\n",
       "      <td>NaN</td>\n",
       "      <td>NaN</td>\n",
       "      <td>NaN</td>\n",
       "      <td>NaN</td>\n",
       "      <td>NaN</td>\n",
       "    </tr>\n",
       "    <tr>\n",
       "      <th>1</th>\n",
       "      <td>13-Jun-14</td>\n",
       "      <td>2014</td>\n",
       "      <td>G</td>\n",
       "      <td>B</td>\n",
       "      <td>Netherlands</td>\n",
       "      <td>1-May</td>\n",
       "      <td>Spain</td>\n",
       "      <td>Arena Fonte Nova</td>\n",
       "      <td>Nicola Rizzoli</td>\n",
       "      <td>48173</td>\n",
       "      <td>...</td>\n",
       "      <td>1.142857</td>\n",
       "      <td>0.285714</td>\n",
       "      <td>0.000000</td>\n",
       "      <td>2.0</td>\n",
       "      <td>2.0</td>\n",
       "      <td>0.0</td>\n",
       "      <td>1.0</td>\n",
       "      <td>2.875000</td>\n",
       "      <td>4.000000</td>\n",
       "      <td>7511.63</td>\n",
       "    </tr>\n",
       "    <tr>\n",
       "      <th>2</th>\n",
       "      <td>13-Jun-14</td>\n",
       "      <td>2014</td>\n",
       "      <td>G</td>\n",
       "      <td>B</td>\n",
       "      <td>Australia</td>\n",
       "      <td>3-Jan</td>\n",
       "      <td>Chile</td>\n",
       "      <td>Arena Pantanal</td>\n",
       "      <td>Noumandiez Doue</td>\n",
       "      <td>40275</td>\n",
       "      <td>...</td>\n",
       "      <td>0.750000</td>\n",
       "      <td>1.250000</td>\n",
       "      <td>0.000000</td>\n",
       "      <td>14.0</td>\n",
       "      <td>12.0</td>\n",
       "      <td>0.0</td>\n",
       "      <td>0.0</td>\n",
       "      <td>1.095238</td>\n",
       "      <td>2.000000</td>\n",
       "      <td>3339.59</td>\n",
       "    </tr>\n",
       "    <tr>\n",
       "      <th>3</th>\n",
       "      <td>13-Jun-14</td>\n",
       "      <td>2014</td>\n",
       "      <td>G</td>\n",
       "      <td>A</td>\n",
       "      <td>Cameroon</td>\n",
       "      <td>0 - 1</td>\n",
       "      <td>Mexico</td>\n",
       "      <td>Arena das Dunas</td>\n",
       "      <td>Wilmar Roldan</td>\n",
       "      <td>39216</td>\n",
       "      <td>...</td>\n",
       "      <td>1.000000</td>\n",
       "      <td>1.250000</td>\n",
       "      <td>0.250000</td>\n",
       "      <td>18.0</td>\n",
       "      <td>15.0</td>\n",
       "      <td>0.0</td>\n",
       "      <td>0.0</td>\n",
       "      <td>1.437500</td>\n",
       "      <td>3.333333</td>\n",
       "      <td>13400.20</td>\n",
       "    </tr>\n",
       "    <tr>\n",
       "      <th>4</th>\n",
       "      <td>14-Jun-14</td>\n",
       "      <td>2014</td>\n",
       "      <td>G</td>\n",
       "      <td>D</td>\n",
       "      <td>England</td>\n",
       "      <td>2-Jan</td>\n",
       "      <td>Italy</td>\n",
       "      <td>Arena Amazonia</td>\n",
       "      <td>Bjorn Kuipers</td>\n",
       "      <td>39800</td>\n",
       "      <td>...</td>\n",
       "      <td>1.333333</td>\n",
       "      <td>1.666667</td>\n",
       "      <td>0.333333</td>\n",
       "      <td>4.0</td>\n",
       "      <td>4.0</td>\n",
       "      <td>0.0</td>\n",
       "      <td>0.0</td>\n",
       "      <td>2.300000</td>\n",
       "      <td>2.857143</td>\n",
       "      <td>7017.12</td>\n",
       "    </tr>\n",
       "    <tr>\n",
       "      <th>5</th>\n",
       "      <td>14-Jun-14</td>\n",
       "      <td>2014</td>\n",
       "      <td>G</td>\n",
       "      <td>D</td>\n",
       "      <td>Costa Rica</td>\n",
       "      <td>1-Mar</td>\n",
       "      <td>Uruguay</td>\n",
       "      <td>Estadio Castelao</td>\n",
       "      <td>Felix Brych</td>\n",
       "      <td>58679</td>\n",
       "      <td>...</td>\n",
       "      <td>1.571429</td>\n",
       "      <td>1.142857</td>\n",
       "      <td>0.142857</td>\n",
       "      <td>25.0</td>\n",
       "      <td>20.0</td>\n",
       "      <td>0.0</td>\n",
       "      <td>0.0</td>\n",
       "      <td>1.150000</td>\n",
       "      <td>2.000000</td>\n",
       "      <td>7698.80</td>\n",
       "    </tr>\n",
       "    <tr>\n",
       "      <th>6</th>\n",
       "      <td>14-Jun-14</td>\n",
       "      <td>2014</td>\n",
       "      <td>G</td>\n",
       "      <td>C</td>\n",
       "      <td>Ivory Coast</td>\n",
       "      <td>1-Feb</td>\n",
       "      <td>Japan</td>\n",
       "      <td>NaN</td>\n",
       "      <td>NaN</td>\n",
       "      <td>40267</td>\n",
       "      <td>...</td>\n",
       "      <td>1.000000</td>\n",
       "      <td>0.500000</td>\n",
       "      <td>0.000000</td>\n",
       "      <td>40.0</td>\n",
       "      <td>27.0</td>\n",
       "      <td>0.0</td>\n",
       "      <td>0.0</td>\n",
       "      <td>1.533333</td>\n",
       "      <td>2.333333</td>\n",
       "      <td>11631.20</td>\n",
       "    </tr>\n",
       "    <tr>\n",
       "      <th>7</th>\n",
       "      <td>14-Jun-14</td>\n",
       "      <td>2014</td>\n",
       "      <td>G</td>\n",
       "      <td>C</td>\n",
       "      <td>Colombia</td>\n",
       "      <td>Mar-00</td>\n",
       "      <td>Greece</td>\n",
       "      <td>MineirÌ£o</td>\n",
       "      <td>Mark Geiger</td>\n",
       "      <td>57174</td>\n",
       "      <td>...</td>\n",
       "      <td>0.666667</td>\n",
       "      <td>1.666667</td>\n",
       "      <td>0.000000</td>\n",
       "      <td>16.0</td>\n",
       "      <td>13.0</td>\n",
       "      <td>0.0</td>\n",
       "      <td>0.0</td>\n",
       "      <td>1.769231</td>\n",
       "      <td>3.500000</td>\n",
       "      <td>6762.02</td>\n",
       "    </tr>\n",
       "    <tr>\n",
       "      <th>8</th>\n",
       "      <td>15-Jun-14</td>\n",
       "      <td>2014</td>\n",
       "      <td>G</td>\n",
       "      <td>E</td>\n",
       "      <td>Ecuador</td>\n",
       "      <td>2-Jan</td>\n",
       "      <td>Switzerland</td>\n",
       "      <td>Estadio Nacional Mane Garrincha</td>\n",
       "      <td>Ravshan Irmatov</td>\n",
       "      <td>68351</td>\n",
       "      <td>...</td>\n",
       "      <td>0.333333</td>\n",
       "      <td>0.333333</td>\n",
       "      <td>0.000000</td>\n",
       "      <td>13.0</td>\n",
       "      <td>11.0</td>\n",
       "      <td>0.0</td>\n",
       "      <td>0.0</td>\n",
       "      <td>1.277778</td>\n",
       "      <td>2.250000</td>\n",
       "      <td>8202.84</td>\n",
       "    </tr>\n",
       "    <tr>\n",
       "      <th>9</th>\n",
       "      <td>15-Jun-14</td>\n",
       "      <td>2014</td>\n",
       "      <td>G</td>\n",
       "      <td>E</td>\n",
       "      <td>France</td>\n",
       "      <td>Mar-00</td>\n",
       "      <td>Honduras</td>\n",
       "      <td>EstÌÁdio Beira-Rio</td>\n",
       "      <td>Sandro Ricci</td>\n",
       "      <td>43012</td>\n",
       "      <td>...</td>\n",
       "      <td>0.000000</td>\n",
       "      <td>1.000000</td>\n",
       "      <td>0.000000</td>\n",
       "      <td>35.0</td>\n",
       "      <td>25.0</td>\n",
       "      <td>0.0</td>\n",
       "      <td>0.0</td>\n",
       "      <td>1.916667</td>\n",
       "      <td>3.750000</td>\n",
       "      <td>12826.60</td>\n",
       "    </tr>\n",
       "  </tbody>\n",
       "</table>\n",
       "<p>10 rows × 42 columns</p>\n",
       "</div>"
      ],
      "text/plain": [
       "        Date  Year Type Group     Country1   Score     Country2  \\\n",
       "0  12-Jun-14  2014    G     A       Brazil   1-Mar      Croatia   \n",
       "1  13-Jun-14  2014    G     B  Netherlands   1-May        Spain   \n",
       "2  13-Jun-14  2014    G     B    Australia   3-Jan        Chile   \n",
       "3  13-Jun-14  2014    G     A     Cameroon   0 - 1       Mexico   \n",
       "4  14-Jun-14  2014    G     D      England   2-Jan        Italy   \n",
       "5  14-Jun-14  2014    G     D   Costa Rica   1-Mar      Uruguay   \n",
       "6  14-Jun-14  2014    G     C  Ivory Coast   1-Feb        Japan   \n",
       "7  14-Jun-14  2014    G     C     Colombia  Mar-00       Greece   \n",
       "8  15-Jun-14  2014    G     E      Ecuador   2-Jan  Switzerland   \n",
       "9  15-Jun-14  2014    G     E       France  Mar-00     Honduras   \n",
       "\n",
       "                           Stadium               Ref  Attendence    ...     \\\n",
       "0               Arena de Sao Paulo  Yuichi Nishimura       62103    ...      \n",
       "1                 Arena Fonte Nova    Nicola Rizzoli       48173    ...      \n",
       "2                   Arena Pantanal   Noumandiez Doue       40275    ...      \n",
       "3                  Arena das Dunas     Wilmar Roldan       39216    ...      \n",
       "4                   Arena Amazonia     Bjorn Kuipers       39800    ...      \n",
       "5                 Estadio Castelao       Felix Brych       58679    ...      \n",
       "6                              NaN               NaN       40267    ...      \n",
       "7                        MineirÌ£o       Mark Geiger       57174    ...      \n",
       "8  Estadio Nacional Mane Garrincha   Ravshan Irmatov       68351    ...      \n",
       "9               EstÌÁdio Beira-Rio      Sandro Ricci       43012    ...      \n",
       "\n",
       "   Goal_Per_Game_Avg_C2  Goal_Against_Per_Game_Avg_C2  \\\n",
       "0                   NaN                           NaN   \n",
       "1              1.142857                      0.285714   \n",
       "2              0.750000                      1.250000   \n",
       "3              1.000000                      1.250000   \n",
       "4              1.333333                      1.666667   \n",
       "5              1.571429                      1.142857   \n",
       "6              1.000000                      0.500000   \n",
       "7              0.666667                      1.666667   \n",
       "8              0.333333                      0.333333   \n",
       "9              0.000000                      1.000000   \n",
       "\n",
       "   PenGoal_Per_Game_Avg_C2  FIFA rank_C2  seed_C2  host_C2  stars_C2  \\\n",
       "0                      NaN           NaN      NaN      NaN       NaN   \n",
       "1                 0.000000           2.0      2.0      0.0       1.0   \n",
       "2                 0.000000          14.0     12.0      0.0       0.0   \n",
       "3                 0.250000          18.0     15.0      0.0       0.0   \n",
       "4                 0.333333           4.0      4.0      0.0       0.0   \n",
       "5                 0.142857          25.0     20.0      0.0       0.0   \n",
       "6                 0.000000          40.0     27.0      0.0       0.0   \n",
       "7                 0.000000          16.0     13.0      0.0       0.0   \n",
       "8                 0.000000          13.0     11.0      0.0       0.0   \n",
       "9                 0.000000          35.0     25.0      0.0       0.0   \n",
       "\n",
       "   cohesion_C2  cohesion sans 1_C2   dist_C2  \n",
       "0          NaN                 NaN       NaN  \n",
       "1     2.875000            4.000000   7511.63  \n",
       "2     1.095238            2.000000   3339.59  \n",
       "3     1.437500            3.333333  13400.20  \n",
       "4     2.300000            2.857143   7017.12  \n",
       "5     1.150000            2.000000   7698.80  \n",
       "6     1.533333            2.333333  11631.20  \n",
       "7     1.769231            3.500000   6762.02  \n",
       "8     1.277778            2.250000   8202.84  \n",
       "9     1.916667            3.750000  12826.60  \n",
       "\n",
       "[10 rows x 42 columns]"
      ]
     },
     "execution_count": 7,
     "metadata": {},
     "output_type": "execute_result"
    }
   ],
   "source": [
    "data_df.head(10)"
   ]
  },
  {
   "cell_type": "code",
   "execution_count": 8,
   "metadata": {},
   "outputs": [
    {
     "data": {
      "text/plain": [
       "Index(['Date', 'Year', 'Type', 'Group', 'Country1', 'Score', 'Country2',\n",
       "       'Stadium', 'Ref', 'Attendence', 'Earth Level', 'Score1', 'Score2',\n",
       "       'Score_Diff', 'Matches Played_C1', 'Yellow_Per_Game_Avg_C1',\n",
       "       'YellowRed_Per_Game_Avg_C1', 'Red_Per_Game_Avg_C1',\n",
       "       'Goal_Per_Game_Avg_C1', 'Goal_Against_Per_Game_Avg_C1',\n",
       "       'PenGoal_Per_Game_Avg_C1', 'FIFA rank_C1', 'seed_C1', 'host_C1',\n",
       "       'stars_C1', 'cohesion_C1', 'cohesion sans 1_C1', 'dist_C1',\n",
       "       'Matches Played_C2', 'Yellow_Per_Game_Avg_C2',\n",
       "       'YellowRed_Per_Game_Avg_C2', 'Red_Per_Game_Avg_C2',\n",
       "       'Goal_Per_Game_Avg_C2', 'Goal_Against_Per_Game_Avg_C2',\n",
       "       'PenGoal_Per_Game_Avg_C2', 'FIFA rank_C2', 'seed_C2', 'host_C2',\n",
       "       'stars_C2', 'cohesion_C2', 'cohesion sans 1_C2', 'dist_C2'],\n",
       "      dtype='object')"
      ]
     },
     "execution_count": 8,
     "metadata": {},
     "output_type": "execute_result"
    }
   ],
   "source": [
    "data_df.columns"
   ]
  },
  {
   "cell_type": "code",
   "execution_count": 8,
   "metadata": {
    "collapsed": true
   },
   "outputs": [],
   "source": [
    "data_df['FIFA rank_C1'] = data_df['FIFA rank_C1'].fillna(100)\n",
    "data_df['FIFA rank_C2'] = data_df['FIFA rank_C2'].fillna(100)\n",
    "\n"
   ]
  },
  {
   "cell_type": "code",
   "execution_count": 5,
   "metadata": {
    "collapsed": true
   },
   "outputs": [],
   "source": [
    "#Make Output Predictor Win, Loss, or Tie\n",
    "data_df[\"Result\"] = False\n",
    "\n",
    "data_df.loc[data_df['Score_Diff'] > 0,\"Result\"] = True\n",
    "#data_df.loc[data_df['Score_Diff'] < 0,\"Result\"] = \"Loss\"\n"
   ]
  },
  {
   "cell_type": "code",
   "execution_count": 81,
   "metadata": {},
   "outputs": [
    {
     "data": {
      "text/plain": [
       "['Date',\n",
       " 'Year',\n",
       " 'Type',\n",
       " 'Group',\n",
       " 'Country1',\n",
       " 'Score',\n",
       " 'Country2',\n",
       " 'Stadium',\n",
       " 'Ref',\n",
       " 'Attendence',\n",
       " 'Earth Level',\n",
       " 'Score1',\n",
       " 'Score2',\n",
       " 'Score_Diff',\n",
       " 'Matches Played_C1',\n",
       " 'Yellow_Per_Game_Avg_C1',\n",
       " 'YellowRed_Per_Game_Avg_C1',\n",
       " 'Red_Per_Game_Avg_C1',\n",
       " 'Goal_Per_Game_Avg_C1',\n",
       " 'Goal_Against_Per_Game_Avg_C1',\n",
       " 'PenGoal_Per_Game_Avg_C1',\n",
       " 'Matches Played_C2',\n",
       " 'Yellow_Per_Game_Avg_C2',\n",
       " 'YellowRed_Per_Game_Avg_C2',\n",
       " 'Red_Per_Game_Avg_C2',\n",
       " 'Goal_Per_Game_Avg_C2',\n",
       " 'Goal_Against_Per_Game_Avg_C2',\n",
       " 'PenGoal_Per_Game_Avg_C2',\n",
       " 'Result']"
      ]
     },
     "execution_count": 81,
     "metadata": {},
     "output_type": "execute_result"
    }
   ],
   "source": [
    "list(data_df.columns)"
   ]
  },
  {
   "cell_type": "code",
   "execution_count": 10,
   "metadata": {
    "collapsed": true
   },
   "outputs": [],
   "source": [
    "features_to_use = ['Earth Level',\n",
    "                 'Matches Played_C1',\n",
    "                 'Yellow_Per_Game_Avg_C1',\n",
    "                 'YellowRed_Per_Game_Avg_C1',\n",
    "                 'Red_Per_Game_Avg_C1',\n",
    "                 'Goal_Per_Game_Avg_C1',\n",
    "                 'Goal_Against_Per_Game_Avg_C1',\n",
    "                 'PenGoal_Per_Game_Avg_C1',\n",
    "                 'Matches Played_C2',\n",
    "                 'Yellow_Per_Game_Avg_C2',\n",
    "                 'YellowRed_Per_Game_Avg_C2',\n",
    "                 'Red_Per_Game_Avg_C2',\n",
    "                 'Goal_Per_Game_Avg_C2',\n",
    "                 'Goal_Against_Per_Game_Avg_C2',\n",
    "                 'PenGoal_Per_Game_Avg_C2']"
   ]
  },
  {
   "cell_type": "code",
   "execution_count": 11,
   "metadata": {
    "collapsed": true
   },
   "outputs": [],
   "source": [
    "X = data_df[features_to_use].as_matrix()\n",
    "y = data_df[\"Result\"].as_matrix()"
   ]
  },
  {
   "cell_type": "code",
   "execution_count": 12,
   "metadata": {
    "collapsed": true
   },
   "outputs": [],
   "source": [
    "from sklearn.model_selection import train_test_split\n",
    "X_train, X_test, y_train, y_test = train_test_split(X, y, test_size=0.20, random_state=5)"
   ]
  },
  {
   "cell_type": "code",
   "execution_count": 13,
   "metadata": {},
   "outputs": [
    {
     "name": "stdout",
     "output_type": "stream",
     "text": [
      "In Sample Accuracy = 0.700336700337\n",
      "Out Sample Accuracy = 0.64\n"
     ]
    }
   ],
   "source": [
    "from sklearn.ensemble import RandomForestClassifier\n",
    "clf = RandomForestClassifier(max_depth=3, random_state=0)\n",
    "clf.fit(X_train, y_train)\n",
    "\n",
    "in_sample_pred = clf.predict(X_train)\n",
    "out_sample_pred = clf.predict(X_test)\n",
    "\n",
    "\n",
    "Accuracy = (in_sample_pred == y_train).sum()/len(y_train)\n",
    "print(\"In Sample Accuracy = %s\"%Accuracy)\n",
    "\n",
    "Accuracy = (out_sample_pred == y_test).sum()/len(y_test)\n",
    "print(\"Out Sample Accuracy = %s\"%Accuracy)"
   ]
  },
  {
   "cell_type": "code",
   "execution_count": 14,
   "metadata": {},
   "outputs": [
    {
     "name": "stdout",
     "output_type": "stream",
     "text": [
      "In Sample Accuracy = 0.690235690236\n",
      "Out Sample Accuracy = 0.626666666667\n"
     ]
    }
   ],
   "source": [
    "from sklearn.svm import SVC\n",
    "\n",
    "clf = SVC()\n",
    "clf.fit(X_train, y_train)\n",
    "\n",
    "in_sample_pred = clf.predict(X_train)\n",
    "out_sample_pred = clf.predict(X_test)\n",
    "\n",
    "\n",
    "Accuracy = (in_sample_pred == y_train).sum()/len(y_train)\n",
    "print(\"In Sample Accuracy = %s\"%Accuracy)\n",
    "\n",
    "Accuracy = (out_sample_pred == y_test).sum()/len(y_test)\n",
    "print(\"Out Sample Accuracy = %s\"%Accuracy)"
   ]
  },
  {
   "cell_type": "code",
   "execution_count": 15,
   "metadata": {},
   "outputs": [
    {
     "name": "stdout",
     "output_type": "stream",
     "text": [
      "In Sample Accuracy = 0.922558922559\n",
      "Out Sample Accuracy = 0.64\n"
     ]
    }
   ],
   "source": [
    "from sklearn.ensemble import GradientBoostingClassifier\n",
    "\n",
    "clf = GradientBoostingClassifier(n_estimators=1000, learning_rate=1, random_state=None)\n",
    "clf.fit(X_train, y_train)\n",
    "\n",
    "in_sample_pred = clf.predict(X_train)\n",
    "out_sample_pred = clf.predict(X_test)\n",
    "\n",
    "\n",
    "Accuracy = (in_sample_pred == y_train).sum()/len(y_train)\n",
    "print(\"In Sample Accuracy = %s\"%Accuracy)\n",
    "\n",
    "Accuracy = (out_sample_pred == y_test).sum()/len(y_test)\n",
    "print(\"Out Sample Accuracy = %s\"%Accuracy)"
   ]
  },
  {
   "cell_type": "code",
   "execution_count": 62,
   "metadata": {},
   "outputs": [
    {
     "data": {
      "text/plain": [
       "279"
      ]
     },
     "execution_count": 62,
     "metadata": {},
     "output_type": "execute_result"
    }
   ],
   "source": [
    "len(y_test)"
   ]
  },
  {
   "cell_type": "code",
   "execution_count": null,
   "metadata": {
    "collapsed": true
   },
   "outputs": [],
   "source": []
  }
 ],
 "metadata": {
  "kernelspec": {
   "display_name": "Python 3",
   "language": "python",
   "name": "python3"
  },
  "language_info": {
   "codemirror_mode": {
    "name": "ipython",
    "version": 3
   },
   "file_extension": ".py",
   "mimetype": "text/x-python",
   "name": "python",
   "nbconvert_exporter": "python",
   "pygments_lexer": "ipython3",
   "version": "3.6.0"
  }
 },
 "nbformat": 4,
 "nbformat_minor": 2
}
